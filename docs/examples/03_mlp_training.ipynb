import napcas
from napcas import Tensor, Linear, MSELoss, SGD

# Générer des données factices
X = Tensor([[0.0], [1.0], [2.0], [3.0]])
y = Tensor([[0.0], [2.0], [4.0], [6.0]])

# Définir un petit modèle
model = Linear(1, 1)
optimizer = SGD(model.parameters(), lr=0.01)
loss_fn = MSELoss()

# Entraînement sur 100 époques
for epoch in range(100):
    pred = model(X)
    loss = loss_fn(pred, y)
    optimizer.zero_grad()
    loss.backward()
    optimizer.step()
    if epoch % 20 == 0:
        print(f"Epoch {epoch}, loss = {loss.item():.4f}")

print("Paramètres appris:", list(model.parameters()))

