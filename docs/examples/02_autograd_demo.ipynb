# Cellule 1
import napcas
from napcas import Tensor

# Cellule 2 - activer le gradient
x = Tensor([1.0, 2.0, 3.0], requires_grad=True)
y = (x * x).sum()
y.backward()

# Cellule 3 - visualiser les gradients
print("dy/dx =", x.grad)

