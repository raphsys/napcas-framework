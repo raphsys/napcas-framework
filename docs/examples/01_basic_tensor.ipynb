# Cellule 1 - import
import napcas
from napcas import Tensor

# Cellule 2 - création d'un Tensor
x = Tensor([1.0, 2.0, 3.0])
print("x =", x)

# Cellule 3 - opérations élémentaires
y = x * 2 + 1
print("y =", y)

