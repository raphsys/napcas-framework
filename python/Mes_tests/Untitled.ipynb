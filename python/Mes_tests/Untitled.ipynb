{
 "cells": [
  {
   "cell_type": "code",
   "execution_count": 6,
   "id": "7fc739e5-a63a-417d-9213-5639a4d83426",
   "metadata": {},
   "outputs": [],
   "source": [
    "import napcas as nc\n",
    "from napcas import Conv2d, ReLU, Linear, MSELoss, SGD, DataLoader\n"
   ]
  },
  {
   "cell_type": "code",
   "execution_count": 9,
   "id": "728ca985-6a5a-477e-9097-08410b8babb4",
   "metadata": {},
   "outputs": [
    {
     "ename": "TypeError",
     "evalue": "napcas.MSELoss: No constructor defined!",
     "output_type": "error",
     "traceback": [
      "\u001b[0;31m---------------------------------------------------------------------------\u001b[0m",
      "\u001b[0;31mTypeError\u001b[0m                                 Traceback (most recent call last)",
      "Cell \u001b[0;32mIn[9], line 10\u001b[0m\n\u001b[1;32m      1\u001b[0m \u001b[38;5;66;03m# Test de CNN\u001b[39;00m\n\u001b[1;32m      2\u001b[0m model \u001b[38;5;241m=\u001b[39m [\n\u001b[1;32m      3\u001b[0m     Conv2d(\u001b[38;5;241m1\u001b[39m, \u001b[38;5;241m16\u001b[39m, \u001b[38;5;241m3\u001b[39m),\n\u001b[1;32m      4\u001b[0m     ReLU(),\n\u001b[0;32m   (...)\u001b[0m\n\u001b[1;32m      7\u001b[0m     Linear(\u001b[38;5;241m32\u001b[39m \u001b[38;5;241m*\u001b[39m \u001b[38;5;241m6\u001b[39m \u001b[38;5;241m*\u001b[39m \u001b[38;5;241m6\u001b[39m, \u001b[38;5;241m10\u001b[39m)\n\u001b[1;32m      8\u001b[0m ]\n\u001b[0;32m---> 10\u001b[0m criterion \u001b[38;5;241m=\u001b[39m \u001b[43mnc\u001b[49m\u001b[38;5;241;43m.\u001b[39;49m\u001b[43mMSELoss\u001b[49m\u001b[43m(\u001b[49m\u001b[43m)\u001b[49m\n\u001b[1;32m     11\u001b[0m optimizer \u001b[38;5;241m=\u001b[39m nc\u001b[38;5;241m.\u001b[39mSGD(model)\n",
      "\u001b[0;31mTypeError\u001b[0m: napcas.MSELoss: No constructor defined!"
     ]
    }
   ],
   "source": [
    "# Test de CNN\n",
    "model = [\n",
    "    Conv2d(1, 16, 3),\n",
    "    ReLU(),\n",
    "    Conv2d(16, 32, 3),\n",
    "    ReLU(),\n",
    "    Linear(32 * 6 * 6, 10)\n",
    "]\n",
    "\n",
    "criterion = nc.MSELoss()\n",
    "optimizer = nc.SGD(model)"
   ]
  },
  {
   "cell_type": "code",
   "execution_count": null,
   "id": "321dcb0c-c476-42e6-bbd9-1c3129880790",
   "metadata": {},
   "outputs": [],
   "source": [
    "# Entraînement sur MNIST\n",
    "train_loader = DataLoader(\"mnist\", 64)\n",
    "for inputs, targets in train_loader:\n",
    "    outputs = model[0].forward(inputs)\n",
    "    outputs = model[1].forward(outputs)\n",
    "    outputs = model[2].forward(outputs)\n",
    "    outputs = model[3].forward(outputs)\n",
    "    outputs = model[4].forward(outputs)\n",
    "\n",
    "    loss = criterion.forward(outputs, targets)\n",
    "    grad = criterion.backward(outputs, targets)\n",
    "\n",
    "    model[4].backward(grad)\n",
    "    model[3].backward(grad)\n",
    "    model[2].backward(grad)\n",
    "    model[1].backward(grad)\n",
    "    model[0].backward(grad)\n",
    "\n",
    "    optimizer.step()"
   ]
  }
 ],
 "metadata": {
  "kernelspec": {
   "display_name": "Python 3 (ipykernel)",
   "language": "python",
   "name": "python3"
  },
  "language_info": {
   "codemirror_mode": {
    "name": "ipython",
    "version": 3
   },
   "file_extension": ".py",
   "mimetype": "text/x-python",
   "name": "python",
   "nbconvert_exporter": "python",
   "pygments_lexer": "ipython3",
   "version": "3.10.16"
  },
  "widgets": {
   "application/vnd.jupyter.widget-state+json": {
    "state": {},
    "version_major": 2,
    "version_minor": 0
   }
  }
 },
 "nbformat": 4,
 "nbformat_minor": 5
}
