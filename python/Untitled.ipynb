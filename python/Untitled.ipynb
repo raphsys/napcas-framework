{
 "cells": [
  {
   "cell_type": "code",
   "execution_count": 1,
   "id": "d7bb69c8",
   "metadata": {},
   "outputs": [
    {
     "ename": "ImportError",
     "evalue": "/home/raphael/Mes_Projets/napPy/napcas-framework/python/napcas.cpython-313-x86_64-linux-gnu.so: undefined symbol: _ZTI6NAPCAS",
     "output_type": "error",
     "traceback": [
      "\u001b[0;31m---------------------------------------------------------------------------\u001b[0m",
      "\u001b[0;31mImportError\u001b[0m                               Traceback (most recent call last)",
      "Cell \u001b[0;32mIn[1], line 1\u001b[0m\n\u001b[0;32m----> 1\u001b[0m \u001b[38;5;28;01mimport\u001b[39;00m \u001b[38;5;21;01mnapcas\u001b[39;00m \u001b[38;5;28;01mas\u001b[39;00m \u001b[38;5;21;01mnc\u001b[39;00m\n",
      "\u001b[0;31mImportError\u001b[0m: /home/raphael/Mes_Projets/napPy/napcas-framework/python/napcas.cpython-313-x86_64-linux-gnu.so: undefined symbol: _ZTI6NAPCAS"
     ]
    }
   ],
   "source": [
    "import napcas as nc"
   ]
  },
  {
   "cell_type": "code",
   "execution_count": null,
   "id": "1ae998ca",
   "metadata": {},
   "outputs": [],
   "source": []
  }
 ],
 "metadata": {
  "kernelspec": {
   "display_name": "Python 3 (ipykernel)",
   "language": "python",
   "name": "python3"
  },
  "language_info": {
   "codemirror_mode": {
    "name": "ipython",
    "version": 3
   },
   "file_extension": ".py",
   "mimetype": "text/x-python",
   "name": "python",
   "nbconvert_exporter": "python",
   "pygments_lexer": "ipython3",
   "version": "3.13.3"
  }
 },
 "nbformat": 4,
 "nbformat_minor": 5
}
